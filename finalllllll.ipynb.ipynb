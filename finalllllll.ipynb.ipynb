{
 "cells": [
  {
   "cell_type": "markdown",
   "id": "2fa2a54d-ec93-4c54-8796-93a18532ba55",
   "metadata": {},
   "source": [
    "---\n",
    "<a id = \"section2\"></a>\n",
    "## <span style = \"color:blue\" > FINAL PROJECT - Road accidents in Israel: </span>"
   ]
  },
  {
   "cell_type": "markdown",
   "id": "d9e14449-752c-4ada-ba68-c754c4ff80d0",
   "metadata": {
    "tags": []
   },
   "source": [
    "##                       Group Number 3"
   ]
  },
  {
   "cell_type": "markdown",
   "id": "4bfc77ea-b3d1-4b6b-9bd0-485081895259",
   "metadata": {},
   "source": [
    "### presenters:\n",
    "##### Dganit Shchori\n",
    "##### Saleet Haisraeli\n",
    "##### Dvir Dahan\n",
    "##### Shiri Nadav"
   ]
  },
  {
   "cell_type": "markdown",
   "id": "b41605d4-1131-4c59-b73e-7b24e8f20112",
   "metadata": {},
   "source": [
    "<div>\n",
    "<img src=\"WhatsApp Image 2022-09-04 at 13.02.15.jpeg\" width=\"500\"/>\n",
    "</div>"
   ]
  },
  {
   "cell_type": "markdown",
   "id": "99c12d37-01b9-4ece-88f2-2c26e0b676fa",
   "metadata": {},
   "source": [
    "### Source:\n",
    "##### https://data.gov.il/dataset/accid_taz/resource/57c5aef9-70f9-4b71-82fa-52304cfbd031\n"
   ]
  },
  {
   "cell_type": "markdown",
   "id": "2a3ac3a0-68af-46a3-b43f-04d2c7469090",
   "metadata": {},
   "source": [
    "## Table of contents:\n",
    "1. [Wrangling data](#section1)\n",
    "\n",
    "   1.1 [Fix columns](#section1.1)   \n",
    "   1.2 [Missing values](#section1.2)  \n",
    "  \n",
    "2. [Understand the data](#section2)\n",
    "3. [Analysis](#section3)\n",
    "\n",
    "4. [Summery](#section4)"
   ]
  },
  {
   "cell_type": "code",
   "execution_count": 1,
   "id": "62dd50a5-c29e-435c-a697-d43fbf4e3dff",
   "metadata": {},
   "outputs": [],
   "source": [
    "import pandas as pd\n",
    "import numpy as np\n",
    "import matplotlib.pyplot as plt\n",
    "import seaborn as sns\n",
    "import sklearn as sk\n",
    "from sklearn import tree\n",
    "from sklearn.tree import DecisionTreeClassifier\n",
    "from sklearn.metrics import confusion_matrix, ConfusionMatrixDisplay"
   ]
  },
  {
   "cell_type": "markdown",
   "id": "a390a2d1-1c5e-437f-b7fa-b1a7de0c7f55",
   "metadata": {},
   "source": [
    "# The dataset\n",
    "#### The data contains information on road accidents in the last 5 years in Israel investigated by the police.\n",
    "[link to the data source](https://data.gov.il/dataset/accid_taz)"
   ]
  },
  {
   "cell_type": "code",
   "execution_count": 2,
   "id": "e2740ae6-a411-47ae-972a-6376c2c696b9",
   "metadata": {},
   "outputs": [
    {
     "data": {
      "text/html": [
       "<div>\n",
       "<style scoped>\n",
       "    .dataframe tbody tr th:only-of-type {\n",
       "        vertical-align: middle;\n",
       "    }\n",
       "\n",
       "    .dataframe tbody tr th {\n",
       "        vertical-align: top;\n",
       "    }\n",
       "\n",
       "    .dataframe thead th {\n",
       "        text-align: right;\n",
       "    }\n",
       "</style>\n",
       "<table border=\"1\" class=\"dataframe\">\n",
       "  <thead>\n",
       "    <tr style=\"text-align: right;\">\n",
       "      <th></th>\n",
       "      <th>OID</th>\n",
       "      <th>SUMACCIDEN</th>\n",
       "      <th>ID</th>\n",
       "      <th>CITY</th>\n",
       "      <th>MainUse</th>\n",
       "      <th>POP_2018</th>\n",
       "      <th>TAZAREA</th>\n",
       "      <th>USETYPE</th>\n",
       "      <th>CITYCODE</th>\n",
       "      <th>USETYPECOD</th>\n",
       "      <th>...</th>\n",
       "      <th>TOTDRIVERS</th>\n",
       "      <th>MOTORCYCLE</th>\n",
       "      <th>TRUCK</th>\n",
       "      <th>BICYCLE</th>\n",
       "      <th>PRIVATE</th>\n",
       "      <th>VEHICLE</th>\n",
       "      <th>ACC_INDEX</th>\n",
       "      <th>YEARMONTH</th>\n",
       "      <th>Shape_Length</th>\n",
       "      <th>Shape_Area</th>\n",
       "    </tr>\n",
       "  </thead>\n",
       "  <tbody>\n",
       "    <tr>\n",
       "      <th>2632</th>\n",
       "      <td>NaN</td>\n",
       "      <td>5</td>\n",
       "      <td>2123</td>\n",
       "      <td>צפת</td>\n",
       "      <td>מגורים</td>\n",
       "      <td>4809</td>\n",
       "      <td>839190</td>\n",
       "      <td>מגורים</td>\n",
       "      <td>8000</td>\n",
       "      <td>1</td>\n",
       "      <td>...</td>\n",
       "      <td>1.0</td>\n",
       "      <td>0.0</td>\n",
       "      <td>0.0</td>\n",
       "      <td>0.0</td>\n",
       "      <td>1.0</td>\n",
       "      <td>1.0</td>\n",
       "      <td>5.958126</td>\n",
       "      <td>202204</td>\n",
       "      <td>4881.372918</td>\n",
       "      <td>8.391901e+05</td>\n",
       "    </tr>\n",
       "    <tr>\n",
       "      <th>2633</th>\n",
       "      <td>NaN</td>\n",
       "      <td>7</td>\n",
       "      <td>2273</td>\n",
       "      <td>קיסריה</td>\n",
       "      <td>מגורים</td>\n",
       "      <td>3367</td>\n",
       "      <td>4162977</td>\n",
       "      <td>מגורים</td>\n",
       "      <td>0</td>\n",
       "      <td>1</td>\n",
       "      <td>...</td>\n",
       "      <td>2.0</td>\n",
       "      <td>0.0</td>\n",
       "      <td>0.0</td>\n",
       "      <td>0.0</td>\n",
       "      <td>1.0</td>\n",
       "      <td>2.0</td>\n",
       "      <td>1.681489</td>\n",
       "      <td>202204</td>\n",
       "      <td>8708.919114</td>\n",
       "      <td>4.162977e+06</td>\n",
       "    </tr>\n",
       "    <tr>\n",
       "      <th>2634</th>\n",
       "      <td>NaN</td>\n",
       "      <td>1</td>\n",
       "      <td>2275</td>\n",
       "      <td>שדות ים</td>\n",
       "      <td>מגורים</td>\n",
       "      <td>1056</td>\n",
       "      <td>2661115</td>\n",
       "      <td>מגורים</td>\n",
       "      <td>0</td>\n",
       "      <td>1</td>\n",
       "      <td>...</td>\n",
       "      <td>1.0</td>\n",
       "      <td>0.0</td>\n",
       "      <td>0.0</td>\n",
       "      <td>0.0</td>\n",
       "      <td>1.0</td>\n",
       "      <td>1.0</td>\n",
       "      <td>0.375782</td>\n",
       "      <td>202204</td>\n",
       "      <td>9956.975919</td>\n",
       "      <td>2.661115e+06</td>\n",
       "    </tr>\n",
       "    <tr>\n",
       "      <th>2635</th>\n",
       "      <td>NaN</td>\n",
       "      <td>0</td>\n",
       "      <td>754</td>\n",
       "      <td>אשדוד</td>\n",
       "      <td>תעשיה</td>\n",
       "      <td>0</td>\n",
       "      <td>4168480</td>\n",
       "      <td>תעשיה/מסחר/מתקנים</td>\n",
       "      <td>70</td>\n",
       "      <td>4</td>\n",
       "      <td>...</td>\n",
       "      <td>NaN</td>\n",
       "      <td>NaN</td>\n",
       "      <td>NaN</td>\n",
       "      <td>NaN</td>\n",
       "      <td>NaN</td>\n",
       "      <td>NaN</td>\n",
       "      <td>0.000000</td>\n",
       "      <td>202204</td>\n",
       "      <td>9573.968633</td>\n",
       "      <td>4.168480e+06</td>\n",
       "    </tr>\n",
       "    <tr>\n",
       "      <th>2636</th>\n",
       "      <td>NaN</td>\n",
       "      <td>7</td>\n",
       "      <td>753</td>\n",
       "      <td>אשדוד</td>\n",
       "      <td>נמל אשדוד</td>\n",
       "      <td>0</td>\n",
       "      <td>9308325</td>\n",
       "      <td>תעשיה/מסחר/מתקנים</td>\n",
       "      <td>70</td>\n",
       "      <td>4</td>\n",
       "      <td>...</td>\n",
       "      <td>2.0</td>\n",
       "      <td>0.0</td>\n",
       "      <td>0.0</td>\n",
       "      <td>0.0</td>\n",
       "      <td>2.0</td>\n",
       "      <td>2.0</td>\n",
       "      <td>0.752015</td>\n",
       "      <td>202204</td>\n",
       "      <td>13644.597133</td>\n",
       "      <td>9.308325e+06</td>\n",
       "    </tr>\n",
       "  </tbody>\n",
       "</table>\n",
       "<p>5 rows × 28 columns</p>\n",
       "</div>"
      ],
      "text/plain": [
       "      OID  SUMACCIDEN    ID     CITY    MainUse  POP_2018  TAZAREA  \\\n",
       "2632  NaN           5  2123      צפת     מגורים      4809   839190   \n",
       "2633  NaN           7  2273   קיסריה     מגורים      3367  4162977   \n",
       "2634  NaN           1  2275  שדות ים     מגורים      1056  2661115   \n",
       "2635  NaN           0   754    אשדוד      תעשיה         0  4168480   \n",
       "2636  NaN           7   753    אשדוד  נמל אשדוד         0  9308325   \n",
       "\n",
       "                USETYPE  CITYCODE  USETYPECOD  ...  TOTDRIVERS  MOTORCYCLE  \\\n",
       "2632             מגורים      8000           1  ...         1.0         0.0   \n",
       "2633             מגורים         0           1  ...         2.0         0.0   \n",
       "2634             מגורים         0           1  ...         1.0         0.0   \n",
       "2635  תעשיה/מסחר/מתקנים        70           4  ...         NaN         NaN   \n",
       "2636  תעשיה/מסחר/מתקנים        70           4  ...         2.0         0.0   \n",
       "\n",
       "      TRUCK  BICYCLE  PRIVATE  VEHICLE  ACC_INDEX  YEARMONTH  Shape_Length  \\\n",
       "2632    0.0      0.0      1.0      1.0   5.958126     202204   4881.372918   \n",
       "2633    0.0      0.0      1.0      2.0   1.681489     202204   8708.919114   \n",
       "2634    0.0      0.0      1.0      1.0   0.375782     202204   9956.975919   \n",
       "2635    NaN      NaN      NaN      NaN   0.000000     202204   9573.968633   \n",
       "2636    0.0      0.0      2.0      2.0   0.752015     202204  13644.597133   \n",
       "\n",
       "        Shape_Area  \n",
       "2632  8.391901e+05  \n",
       "2633  4.162977e+06  \n",
       "2634  2.661115e+06  \n",
       "2635  4.168480e+06  \n",
       "2636  9.308325e+06  \n",
       "\n",
       "[5 rows x 28 columns]"
      ]
     },
     "execution_count": 2,
     "metadata": {},
     "output_type": "execute_result"
    }
   ],
   "source": [
    "url=\"https://raw.githubusercontent.com/Dvirda/DS2022c/main/CSV_files/accid_taz.csv\"\n",
    "accidents = pd.read_csv(url)\n",
    "accidents.tail()"
   ]
  },
  {
   "cell_type": "markdown",
   "id": "c19c99a8-0b23-436e-a620-6caba2ce106b",
   "metadata": {
    "tags": []
   },
   "source": [
    "## 1. Wrangling the data:"
   ]
  },
  {
   "cell_type": "markdown",
   "id": "97e000f7-4678-4f15-bf53-4b1b2dee1b99",
   "metadata": {},
   "source": [
    "#### 1.2 Checking for missing values:"
   ]
  },
  {
   "cell_type": "code",
   "execution_count": 3,
   "id": "ebf751a0-ae14-415a-b969-90a4d3087d95",
   "metadata": {},
   "outputs": [
    {
     "data": {
      "text/plain": [
       "OID             2637\n",
       "SLIGH_INJ        392\n",
       "VEHICLE          392\n",
       "PRIVATE          392\n",
       "BICYCLE          392\n",
       "TRUCK            392\n",
       "MOTORCYCLE       392\n",
       "TOTDRIVERS       392\n",
       "INJTOTAL         392\n",
       "INJ65_           392\n",
       "INJ20_64         392\n",
       "PEDESTRINJ       392\n",
       "INJ0_19          392\n",
       "SEVER_INJ        392\n",
       "DEAD             392\n",
       "SUMACCIDEN         0\n",
       "USETYPECOD         0\n",
       "CITYCODE           0\n",
       "USETYPE            0\n",
       "TAZAREA            0\n",
       "POP_2018           0\n",
       "MainUse            0\n",
       "CITY               0\n",
       "ID                 0\n",
       "ACC_INDEX          0\n",
       "YEARMONTH          0\n",
       "Shape_Length       0\n",
       "Shape_Area         0\n",
       "dtype: int64"
      ]
     },
     "execution_count": 3,
     "metadata": {},
     "output_type": "execute_result"
    }
   ],
   "source": [
    " accidents.isnull().sum().sort_values(ascending=False)"
   ]
  },
  {
   "cell_type": "markdown",
   "id": "db3126d9-95c1-41ad-825f-cd1ab6c41b81",
   "metadata": {},
   "source": [
    "#### 1.3 Missing values"
   ]
  },
  {
   "cell_type": "code",
   "execution_count": 4,
   "id": "fc513612-c66a-479b-b596-f3bb2be2b32d",
   "metadata": {},
   "outputs": [
    {
     "data": {
      "text/plain": [
       "SUMACCIDEN      0\n",
       "INJ20_64        0\n",
       "Shape_Length    0\n",
       "YEARMONTH       0\n",
       "ACC_INDEX       0\n",
       "VEHICLE         0\n",
       "PRIVATE         0\n",
       "BICYCLE         0\n",
       "TRUCK           0\n",
       "MOTORCYCLE      0\n",
       "TOTDRIVERS      0\n",
       "INJTOTAL        0\n",
       "INJ65_          0\n",
       "INJ0_19         0\n",
       "ID              0\n",
       "PEDESTRINJ      0\n",
       "SLIGH_INJ       0\n",
       "SEVER_INJ       0\n",
       "DEAD            0\n",
       "USETYPECOD      0\n",
       "CITYCODE        0\n",
       "USETYPE         0\n",
       "TAZAREA         0\n",
       "POP_2018        0\n",
       "MainUse         0\n",
       "CITY            0\n",
       "Shape_Area      0\n",
       "dtype: int64"
      ]
     },
     "execution_count": 4,
     "metadata": {},
     "output_type": "execute_result"
    }
   ],
   "source": [
    "accidents.pop('OID') #removing Column that empty of values\n",
    "accidents = accidents.fillna(0)\n",
    "accidents.isnull().sum().sort_values(ascending=False)"
   ]
  },
  {
   "cell_type": "markdown",
   "id": "75c72a99-ac47-4cd5-acfb-1219edaf4cbc",
   "metadata": {},
   "source": [
    "### We assumed that replacing the missing values would be marginal since there are only about 392 missing values. This is a marginal number in relation to the 2636 rows in the data, so we completed the missing values to 0. And there were confidential values, so we decided to remove them ."
   ]
  },
  {
   "cell_type": "markdown",
   "id": "6692874b-ea23-44ac-b69e-f2f1b504589f",
   "metadata": {},
   "source": [
    "<right><img src=\"spongebob-sweeping.gif\"\n",
    "     width=\"400\"  > <right>"
   ]
  },
  {
   "cell_type": "markdown",
   "id": "97ec8b1c-ace2-4b58-bd47-539e8b612589",
   "metadata": {},
   "source": [
    "### 2. Understanding the data"
   ]
  },
  {
   "cell_type": "markdown",
   "id": "51696a74-5af2-4c54-8cf4-c12b5859d6fb",
   "metadata": {},
   "source": [
    "####  Columns name: "
   ]
  },
  {
   "cell_type": "code",
   "execution_count": 5,
   "id": "f76d3380-8e75-4bc0-8138-efabed54b1dd",
   "metadata": {},
   "outputs": [
    {
     "data": {
      "text/plain": [
       "Index(['SUMACCIDEN', 'ID', 'CITY', 'MainUse', 'POP_2018', 'TAZAREA', 'USETYPE',\n",
       "       'CITYCODE', 'USETYPECOD', 'DEAD', 'SEVER_INJ', 'SLIGH_INJ',\n",
       "       'PEDESTRINJ', 'INJ0_19', 'INJ20_64', 'INJ65_', 'INJTOTAL', 'TOTDRIVERS',\n",
       "       'MOTORCYCLE', 'TRUCK', 'BICYCLE', 'PRIVATE', 'VEHICLE', 'ACC_INDEX',\n",
       "       'YEARMONTH', 'Shape_Length', 'Shape_Area'],\n",
       "      dtype='object')"
      ]
     },
     "execution_count": 5,
     "metadata": {},
     "output_type": "execute_result"
    }
   ],
   "source": [
    "accidents.columns   "
   ]
  },
  {
   "cell_type": "markdown",
   "id": "f4f2fbdb-a217-4bec-8e8e-20540f311671",
   "metadata": {},
   "source": [
    "The meaning of the names of the columns : [link here](https://data.gov.il/dataset/accid_taz/resource/b25db13f-07e6-4ec6-be71-a95bb1b15816)"
   ]
  },
  {
   "cell_type": "code",
   "execution_count": 6,
   "id": "6829bf35-71e0-4fd8-baf8-2f00bca59dc7",
   "metadata": {},
   "outputs": [
    {
     "data": {
      "text/plain": [
       "SUMACCIDEN        int64\n",
       "ID                int64\n",
       "CITY             object\n",
       "MainUse          object\n",
       "POP_2018          int64\n",
       "TAZAREA           int64\n",
       "USETYPE          object\n",
       "CITYCODE          int64\n",
       "USETYPECOD        int64\n",
       "DEAD            float64\n",
       "SEVER_INJ       float64\n",
       "SLIGH_INJ       float64\n",
       "PEDESTRINJ      float64\n",
       "INJ0_19         float64\n",
       "INJ20_64        float64\n",
       "INJ65_          float64\n",
       "INJTOTAL        float64\n",
       "TOTDRIVERS      float64\n",
       "MOTORCYCLE      float64\n",
       "TRUCK           float64\n",
       "BICYCLE         float64\n",
       "PRIVATE         float64\n",
       "VEHICLE         float64\n",
       "ACC_INDEX       float64\n",
       "YEARMONTH         int64\n",
       "Shape_Length    float64\n",
       "Shape_Area      float64\n",
       "dtype: object"
      ]
     },
     "execution_count": 6,
     "metadata": {},
     "output_type": "execute_result"
    }
   ],
   "source": [
    "accidents.dtypes"
   ]
  },
  {
   "cell_type": "markdown",
   "id": "b078518a-d91a-4542-ba24-6784019d72d7",
   "metadata": {},
   "source": [
    "<div>\n",
    "<img src=\"WhatsApp Image 2022-09-04 at 13.02.16.jpeg\" width=\"500\"/>\n",
    "</div>"
   ]
  },
  {
   "cell_type": "code",
   "execution_count": 7,
   "id": "d649501e-75d6-4223-bdcb-7b424e445f83",
   "metadata": {},
   "outputs": [
    {
     "data": {
      "text/plain": [
       "92.0"
      ]
     },
     "execution_count": 7,
     "metadata": {},
     "output_type": "execute_result"
    }
   ],
   "source": [
    "accidents[('DEAD')].sum()"
   ]
  },
  {
   "cell_type": "markdown",
   "id": "4fda0b62-0a76-4400-9925-33605269e60d",
   "metadata": {},
   "source": [
    "#### It doesn't make sense that in the last 5 years there are only 92 deaths compared to the table that shows much more. After an inquiry we made, we discovered that a qualified MDA medic does not always come to determine death. So the data on the dead is mostly found in the hospitals."
   ]
  },
  {
   "cell_type": "markdown",
   "id": "9574f45e-5698-4e99-ae7c-3d0f8783540c",
   "metadata": {},
   "source": [
    "***************\n",
    "<a id = \"section2\"></a>\n",
    "## <span style = \"color:red\" > WHAT ARE THE CAUSES OF CAR ACCIDENTS? </span>\n",
    "\n",
    "**************"
   ]
  },
  {
   "cell_type": "markdown",
   "id": "ea37ab9b-c09a-4c67-9cd9-3b9a889a7ffe",
   "metadata": {},
   "source": [
    "## 3. Analysis"
   ]
  },
  {
   "cell_type": "code",
   "execution_count": 8,
   "id": "448f6d37-2ec8-4152-9c62-e215260adf37",
   "metadata": {},
   "outputs": [
    {
     "data": {
      "image/png": "[encoded data removed]",
      "text/plain": [
       "<Figure size 1440x720 with 2 Axes>"
      ]
     },
     "metadata": {
      "needs_background": "light"
     },
     "output_type": "display_data"
    }
   ],
   "source": [
    "plt.figure(figsize=(20,10))\n",
    "accidents_heatmap= accidents.corr()\n",
    "matrix = np.triu(accidents_heatmap)\n",
    "sns.heatmap(data=accidents_heatmap,cmap='Reds', annot=True, mask=matrix ,linewidths=2)\n",
    "plt.show()"
   ]
  },
  {
   "cell_type": "markdown",
   "id": "0772d1da-4b7c-443e-93d8-1c17f4710419",
   "metadata": {},
   "source": [
    "<right><img src=\"simpson.webp\"\n",
    "     width=\"400\"  > <right>"
   ]
  },
  {
   "cell_type": "markdown",
   "id": "f8b01a5c-b8ee-4163-aeea-24fe3e46497d",
   "metadata": {},
   "source": [
    "### 3.1 Age distribution of the injured:"
   ]
  },
  {
   "cell_type": "code",
   "execution_count": 9,
   "id": "d32230fb-5adf-4e8c-8c09-a87e7053ac2e",
   "metadata": {},
   "outputs": [
    {
     "data": {
      "text/html": [
       "<div>\n",
       "<style scoped>\n",
       "    .dataframe tbody tr th:only-of-type {\n",
       "        vertical-align: middle;\n",
       "    }\n",
       "\n",
       "    .dataframe tbody tr th {\n",
       "        vertical-align: top;\n",
       "    }\n",
       "\n",
       "    .dataframe thead th {\n",
       "        text-align: right;\n",
       "    }\n",
       "</style>\n",
       "<table border=\"1\" class=\"dataframe\">\n",
       "  <thead>\n",
       "    <tr style=\"text-align: right;\">\n",
       "      <th></th>\n",
       "      <th>INJ0_19</th>\n",
       "      <th>INJ20_64</th>\n",
       "      <th>INJ65_</th>\n",
       "    </tr>\n",
       "    <tr>\n",
       "      <th>INJTOTAL</th>\n",
       "      <th></th>\n",
       "      <th></th>\n",
       "      <th></th>\n",
       "    </tr>\n",
       "  </thead>\n",
       "  <tbody>\n",
       "    <tr>\n",
       "      <th>1.0</th>\n",
       "      <td>259.0</td>\n",
       "      <td>911.0</td>\n",
       "      <td>171.0</td>\n",
       "    </tr>\n",
       "    <tr>\n",
       "      <th>2.0</th>\n",
       "      <td>127.0</td>\n",
       "      <td>653.0</td>\n",
       "      <td>83.0</td>\n",
       "    </tr>\n",
       "    <tr>\n",
       "      <th>3.0</th>\n",
       "      <td>118.0</td>\n",
       "      <td>411.0</td>\n",
       "      <td>57.0</td>\n",
       "    </tr>\n",
       "    <tr>\n",
       "      <th>4.0</th>\n",
       "      <td>107.0</td>\n",
       "      <td>304.0</td>\n",
       "      <td>29.0</td>\n",
       "    </tr>\n",
       "    <tr>\n",
       "      <th>5.0</th>\n",
       "      <td>101.0</td>\n",
       "      <td>207.0</td>\n",
       "      <td>21.0</td>\n",
       "    </tr>\n",
       "    <tr>\n",
       "      <th>6.0</th>\n",
       "      <td>78.0</td>\n",
       "      <td>125.0</td>\n",
       "      <td>5.0</td>\n",
       "    </tr>\n",
       "    <tr>\n",
       "      <th>7.0</th>\n",
       "      <td>45.0</td>\n",
       "      <td>56.0</td>\n",
       "      <td>4.0</td>\n",
       "    </tr>\n",
       "    <tr>\n",
       "      <th>8.0</th>\n",
       "      <td>31.0</td>\n",
       "      <td>50.0</td>\n",
       "      <td>7.0</td>\n",
       "    </tr>\n",
       "    <tr>\n",
       "      <th>9.0</th>\n",
       "      <td>8.0</td>\n",
       "      <td>10.0</td>\n",
       "      <td>0.0</td>\n",
       "    </tr>\n",
       "    <tr>\n",
       "      <th>10.0</th>\n",
       "      <td>5.0</td>\n",
       "      <td>15.0</td>\n",
       "      <td>0.0</td>\n",
       "    </tr>\n",
       "    <tr>\n",
       "      <th>11.0</th>\n",
       "      <td>16.0</td>\n",
       "      <td>6.0</td>\n",
       "      <td>0.0</td>\n",
       "    </tr>\n",
       "    <tr>\n",
       "      <th>14.0</th>\n",
       "      <td>2.0</td>\n",
       "      <td>9.0</td>\n",
       "      <td>3.0</td>\n",
       "    </tr>\n",
       "    <tr>\n",
       "      <th>17.0</th>\n",
       "      <td>17.0</td>\n",
       "      <td>0.0</td>\n",
       "      <td>0.0</td>\n",
       "    </tr>\n",
       "    <tr>\n",
       "      <th>35.0</th>\n",
       "      <td>0.0</td>\n",
       "      <td>35.0</td>\n",
       "      <td>0.0</td>\n",
       "    </tr>\n",
       "  </tbody>\n",
       "</table>\n",
       "</div>"
      ],
      "text/plain": [
       "          INJ0_19  INJ20_64  INJ65_\n",
       "INJTOTAL                           \n",
       "1.0         259.0     911.0   171.0\n",
       "2.0         127.0     653.0    83.0\n",
       "3.0         118.0     411.0    57.0\n",
       "4.0         107.0     304.0    29.0\n",
       "5.0         101.0     207.0    21.0\n",
       "6.0          78.0     125.0     5.0\n",
       "7.0          45.0      56.0     4.0\n",
       "8.0          31.0      50.0     7.0\n",
       "9.0           8.0      10.0     0.0\n",
       "10.0          5.0      15.0     0.0\n",
       "11.0         16.0       6.0     0.0\n",
       "14.0          2.0       9.0     3.0\n",
       "17.0         17.0       0.0     0.0\n",
       "35.0          0.0      35.0     0.0"
      ]
     },
     "execution_count": 9,
     "metadata": {},
     "output_type": "execute_result"
    }
   ],
   "source": [
    "df = accidents.groupby('INJTOTAL')[['INJ0_19', 'INJ20_64', 'INJ65_']].sum()\n",
    "df.iloc[1: , :]"
   ]
  },
  {
   "cell_type": "code",
   "execution_count": 10,
   "id": "8ceb57d4-ef21-4366-b2f0-c9cc850eed8d",
   "metadata": {},
   "outputs": [
    {
     "data": {
      "image/png": "[encoded data removed]",
      "text/plain": [
       "<Figure size 1368x360 with 2 Axes>"
      ]
     },
     "metadata": {
      "needs_background": "light"
     },
     "output_type": "display_data"
    }
   ],
   "source": [
    "fig, axes = plt.subplots(figsize = (19, 5), ncols = 2)\n",
    "df.sum().plot.pie(autopct= \"%1.1f%%\" , title = 'Spread of injuries age' ,ylabel = \"\", colors=['lightblue', 'pink','cornflowerblue'], ax = axes[0])\n",
    "sns.barplot(data=df , color=\"cornflowerblue\",ax = axes[1]);"
   ]
  },
  {
   "cell_type": "markdown",
   "id": "ed94ba5c-5595-40be-9164-76584e385fc6",
   "metadata": {},
   "source": [
    "##### To our surprise, we found from the data that most of the injured are in the age range of 20-64. We expected to find that the younger age range would contain most of the injured because of their young age, lack of experience on the road and social influence.\n",
    "##### From this finding, we recommend increasing the frequency of driving refresher courses and making them more accessible."
   ]
  },
  {
   "cell_type": "markdown",
   "id": "211fcd91-8085-44ff-a970-10f6025d4908",
   "metadata": {},
   "source": [
    "### 3.2 Distribution by traffic areas:"
   ]
  },
  {
   "cell_type": "code",
   "execution_count": 11,
   "id": "e12d4cf5-df15-4cb8-b9d1-b7abe635fb44",
   "metadata": {},
   "outputs": [
    {
     "data": {
      "text/html": [
       "<div>\n",
       "<style scoped>\n",
       "    .dataframe tbody tr th:only-of-type {\n",
       "        vertical-align: middle;\n",
       "    }\n",
       "\n",
       "    .dataframe tbody tr th {\n",
       "        vertical-align: top;\n",
       "    }\n",
       "\n",
       "    .dataframe thead th {\n",
       "        text-align: right;\n",
       "    }\n",
       "</style>\n",
       "<table border=\"1\" class=\"dataframe\">\n",
       "  <thead>\n",
       "    <tr style=\"text-align: right;\">\n",
       "      <th></th>\n",
       "      <th>SUMACCIDEN</th>\n",
       "      <th>ID</th>\n",
       "      <th>POP_2018</th>\n",
       "      <th>TAZAREA</th>\n",
       "      <th>CITYCODE</th>\n",
       "      <th>USETYPECOD</th>\n",
       "      <th>DEAD</th>\n",
       "      <th>SEVER_INJ</th>\n",
       "      <th>SLIGH_INJ</th>\n",
       "      <th>PEDESTRINJ</th>\n",
       "      <th>...</th>\n",
       "      <th>TOTDRIVERS</th>\n",
       "      <th>MOTORCYCLE</th>\n",
       "      <th>TRUCK</th>\n",
       "      <th>BICYCLE</th>\n",
       "      <th>PRIVATE</th>\n",
       "      <th>VEHICLE</th>\n",
       "      <th>ACC_INDEX</th>\n",
       "      <th>YEARMONTH</th>\n",
       "      <th>Shape_Length</th>\n",
       "      <th>Shape_Area</th>\n",
       "    </tr>\n",
       "    <tr>\n",
       "      <th>USETYPE</th>\n",
       "      <th></th>\n",
       "      <th></th>\n",
       "      <th></th>\n",
       "      <th></th>\n",
       "      <th></th>\n",
       "      <th></th>\n",
       "      <th></th>\n",
       "      <th></th>\n",
       "      <th></th>\n",
       "      <th></th>\n",
       "      <th></th>\n",
       "      <th></th>\n",
       "      <th></th>\n",
       "      <th></th>\n",
       "      <th></th>\n",
       "      <th></th>\n",
       "      <th></th>\n",
       "      <th></th>\n",
       "      <th></th>\n",
       "      <th></th>\n",
       "      <th></th>\n",
       "    </tr>\n",
       "  </thead>\n",
       "  <tbody>\n",
       "    <tr>\n",
       "      <th>מגורים</th>\n",
       "      <td>37381</td>\n",
       "      <td>2372183</td>\n",
       "      <td>8870100</td>\n",
       "      <td>16359034217</td>\n",
       "      <td>6429087</td>\n",
       "      <td>1832</td>\n",
       "      <td>56.0</td>\n",
       "      <td>310.0</td>\n",
       "      <td>2697.0</td>\n",
       "      <td>484.0</td>\n",
       "      <td>...</td>\n",
       "      <td>3028.0</td>\n",
       "      <td>292.0</td>\n",
       "      <td>55.0</td>\n",
       "      <td>54.0</td>\n",
       "      <td>2142.0</td>\n",
       "      <td>3028.0</td>\n",
       "      <td>62306.607885</td>\n",
       "      <td>370437728</td>\n",
       "      <td>1.730099e+07</td>\n",
       "      <td>1.635903e+10</td>\n",
       "    </tr>\n",
       "    <tr>\n",
       "      <th>מוסדי/ציבורי</th>\n",
       "      <td>1473</td>\n",
       "      <td>158878</td>\n",
       "      <td>19744</td>\n",
       "      <td>2773790836</td>\n",
       "      <td>470538</td>\n",
       "      <td>244</td>\n",
       "      <td>8.0</td>\n",
       "      <td>31.0</td>\n",
       "      <td>126.0</td>\n",
       "      <td>21.0</td>\n",
       "      <td>...</td>\n",
       "      <td>166.0</td>\n",
       "      <td>15.0</td>\n",
       "      <td>7.0</td>\n",
       "      <td>3.0</td>\n",
       "      <td>113.0</td>\n",
       "      <td>166.0</td>\n",
       "      <td>2552.910407</td>\n",
       "      <td>24668888</td>\n",
       "      <td>1.343954e+06</td>\n",
       "      <td>2.773791e+09</td>\n",
       "    </tr>\n",
       "    <tr>\n",
       "      <th>עתידי/לא ידוע</th>\n",
       "      <td>1123</td>\n",
       "      <td>292625</td>\n",
       "      <td>112</td>\n",
       "      <td>3097849442</td>\n",
       "      <td>149350</td>\n",
       "      <td>1010</td>\n",
       "      <td>10.0</td>\n",
       "      <td>24.0</td>\n",
       "      <td>203.0</td>\n",
       "      <td>5.0</td>\n",
       "      <td>...</td>\n",
       "      <td>208.0</td>\n",
       "      <td>15.0</td>\n",
       "      <td>11.0</td>\n",
       "      <td>2.0</td>\n",
       "      <td>131.0</td>\n",
       "      <td>208.0</td>\n",
       "      <td>744.022100</td>\n",
       "      <td>40845208</td>\n",
       "      <td>2.860113e+06</td>\n",
       "      <td>3.097849e+09</td>\n",
       "    </tr>\n",
       "    <tr>\n",
       "      <th>פנאי/טבע/ספורט</th>\n",
       "      <td>2156</td>\n",
       "      <td>332820</td>\n",
       "      <td>8540</td>\n",
       "      <td>3872832507</td>\n",
       "      <td>958473</td>\n",
       "      <td>747</td>\n",
       "      <td>6.0</td>\n",
       "      <td>39.0</td>\n",
       "      <td>241.0</td>\n",
       "      <td>15.0</td>\n",
       "      <td>...</td>\n",
       "      <td>288.0</td>\n",
       "      <td>32.0</td>\n",
       "      <td>12.0</td>\n",
       "      <td>8.0</td>\n",
       "      <td>204.0</td>\n",
       "      <td>288.0</td>\n",
       "      <td>2661.664059</td>\n",
       "      <td>50348796</td>\n",
       "      <td>2.361472e+06</td>\n",
       "      <td>3.872833e+09</td>\n",
       "    </tr>\n",
       "    <tr>\n",
       "      <th>תעשיה/מסחר/מתקנים</th>\n",
       "      <td>3927</td>\n",
       "      <td>321422</td>\n",
       "      <td>9823</td>\n",
       "      <td>1601437726</td>\n",
       "      <td>1009672</td>\n",
       "      <td>928</td>\n",
       "      <td>12.0</td>\n",
       "      <td>41.0</td>\n",
       "      <td>334.0</td>\n",
       "      <td>22.0</td>\n",
       "      <td>...</td>\n",
       "      <td>381.0</td>\n",
       "      <td>34.0</td>\n",
       "      <td>12.0</td>\n",
       "      <td>3.0</td>\n",
       "      <td>275.0</td>\n",
       "      <td>381.0</td>\n",
       "      <td>5189.316190</td>\n",
       "      <td>46911328</td>\n",
       "      <td>1.801993e+06</td>\n",
       "      <td>1.601438e+09</td>\n",
       "    </tr>\n",
       "  </tbody>\n",
       "</table>\n",
       "<p>5 rows × 24 columns</p>\n",
       "</div>"
      ],
      "text/plain": [
       "                   SUMACCIDEN       ID  POP_2018      TAZAREA  CITYCODE  \\\n",
       "USETYPE                                                                   \n",
       "מגורים                  37381  2372183   8870100  16359034217   6429087   \n",
       "מוסדי/ציבורי             1473   158878     19744   2773790836    470538   \n",
       "עתידי/לא ידוע            1123   292625       112   3097849442    149350   \n",
       "פנאי/טבע/ספורט           2156   332820      8540   3872832507    958473   \n",
       "תעשיה/מסחר/מתקנים        3927   321422      9823   1601437726   1009672   \n",
       "\n",
       "                   USETYPECOD  DEAD  SEVER_INJ  SLIGH_INJ  PEDESTRINJ  ...  \\\n",
       "USETYPE                                                                ...   \n",
       "מגורים                   1832  56.0      310.0     2697.0       484.0  ...   \n",
       "מוסדי/ציבורי              244   8.0       31.0      126.0        21.0  ...   \n",
       "עתידי/לא ידוע            1010  10.0       24.0      203.0         5.0  ...   \n",
       "פנאי/טבע/ספורט            747   6.0       39.0      241.0        15.0  ...   \n",
       "תעשיה/מסחר/מתקנים         928  12.0       41.0      334.0        22.0  ...   \n",
       "\n",
       "                   TOTDRIVERS  MOTORCYCLE  TRUCK  BICYCLE  PRIVATE  VEHICLE  \\\n",
       "USETYPE                                                                       \n",
       "מגורים                 3028.0       292.0   55.0     54.0   2142.0   3028.0   \n",
       "מוסדי/ציבורי            166.0        15.0    7.0      3.0    113.0    166.0   \n",
       "עתידי/לא ידוע           208.0        15.0   11.0      2.0    131.0    208.0   \n",
       "פנאי/טבע/ספורט          288.0        32.0   12.0      8.0    204.0    288.0   \n",
       "תעשיה/מסחר/מתקנים       381.0        34.0   12.0      3.0    275.0    381.0   \n",
       "\n",
       "                      ACC_INDEX  YEARMONTH  Shape_Length    Shape_Area  \n",
       "USETYPE                                                                 \n",
       "מגורים             62306.607885  370437728  1.730099e+07  1.635903e+10  \n",
       "מוסדי/ציבורי        2552.910407   24668888  1.343954e+06  2.773791e+09  \n",
       "עתידי/לא ידוע        744.022100   40845208  2.860113e+06  3.097849e+09  \n",
       "פנאי/טבע/ספורט      2661.664059   50348796  2.361472e+06  3.872833e+09  \n",
       "תעשיה/מסחר/מתקנים   5189.316190   46911328  1.801993e+06  1.601438e+09  \n",
       "\n",
       "[5 rows x 24 columns]"
      ]
     },
     "execution_count": 11,
     "metadata": {},
     "output_type": "execute_result"
    }
   ],
   "source": [
    "places=accidents.groupby('USETYPE').sum()\n",
    "places"
   ]
  },
  {
   "cell_type": "code",
   "execution_count": 12,
   "id": "fbc3e8b7-fbac-4850-b790-d9b3f66dcb1a",
   "metadata": {},
   "outputs": [],
   "source": [
    "accidents['USETYPE']=accidents['USETYPE'].replace(['מגורים','מוסדי/ציבורי' ,'עתידי/לא ידוע','פנאי/טבע/ספורט', 'תעשיה/מסחר/מתקנים'],[\"םירוגמ\" , \"ירוביצ\\ידסומ\" , \"עודי אל\\ידיתע\", \"טרופס\\עבט\\יאנפ\", \"םינקתמ\\רחסמ\\הישעת\"])"
   ]
  },
  {
   "cell_type": "code",
   "execution_count": 13,
   "id": "175654ad-f49d-4377-81ae-cfaa8eebd01e",
   "metadata": {},
   "outputs": [
    {
     "data": {
      "image/png": "[encoded data removed]",
      "text/plain": [
       "<Figure size 1008x432 with 1 Axes>"
      ]
     },
     "metadata": {
      "needs_background": "light"
     },
     "output_type": "display_data"
    }
   ],
   "source": [
    "plt.figure(figsize=(14,6)) ;\n",
    "plt.title(\"Traffic area classification according to main land uses\")\n",
    "sns.countplot(x= \"USETYPE\", data=accidents , palette=\"Set3\");"
   ]
  },
  {
   "cell_type": "markdown",
   "id": "21885e09-69b5-411e-9c62-5abd2dad7d8f",
   "metadata": {},
   "source": [
    "#### According to this graph, it can be seen that most accidents occur in residential areas. This finding probably stems from a feeling of excessive security due to proximity to the house and frivolity.\n",
    "#### Therefore, we will recommend increasing enforcement in residential areas and urban roads and adding speed cameras."
   ]
  },
  {
   "cell_type": "markdown",
   "id": "ff179da2-c3a0-4bc0-ae07-a68cc2c8114e",
   "metadata": {},
   "source": [
    "img<center><img src=\"accidentgif.gif\"\n",
    "     width=\"400\" > <center>"
   ]
  },
  {
   "cell_type": "markdown",
   "id": "f899b4e5-5286-4292-8e14-faa01fe2fb5b",
   "metadata": {},
   "source": [
    "### 3.3 Accidents in major cities"
   ]
  },
  {
   "cell_type": "code",
   "execution_count": 14,
   "id": "19149cd2-46cf-4216-9ba8-03b51033715c",
   "metadata": {},
   "outputs": [
    {
     "data": {
      "text/html": [
       "<div>\n",
       "<style scoped>\n",
       "    .dataframe tbody tr th:only-of-type {\n",
       "        vertical-align: middle;\n",
       "    }\n",
       "\n",
       "    .dataframe tbody tr th {\n",
       "        vertical-align: top;\n",
       "    }\n",
       "\n",
       "    .dataframe thead th {\n",
       "        text-align: right;\n",
       "    }\n",
       "</style>\n",
       "<table border=\"1\" class=\"dataframe\">\n",
       "  <thead>\n",
       "    <tr style=\"text-align: right;\">\n",
       "      <th></th>\n",
       "      <th>CITY</th>\n",
       "      <th>SUMACCIDEN</th>\n",
       "    </tr>\n",
       "  </thead>\n",
       "  <tbody>\n",
       "    <tr>\n",
       "      <th>812</th>\n",
       "      <td>תל אביב -יפו</td>\n",
       "      <td>5992</td>\n",
       "    </tr>\n",
       "    <tr>\n",
       "      <th>365</th>\n",
       "      <td>ירושלים</td>\n",
       "      <td>2843</td>\n",
       "    </tr>\n",
       "    <tr>\n",
       "      <th>312</th>\n",
       "      <td>חיפה</td>\n",
       "      <td>1806</td>\n",
       "    </tr>\n",
       "    <tr>\n",
       "      <th>698</th>\n",
       "      <td>פתח תקווה</td>\n",
       "      <td>1567</td>\n",
       "    </tr>\n",
       "    <tr>\n",
       "      <th>302</th>\n",
       "      <td>חולון</td>\n",
       "      <td>1461</td>\n",
       "    </tr>\n",
       "  </tbody>\n",
       "</table>\n",
       "</div>"
      ],
      "text/plain": [
       "             CITY  SUMACCIDEN\n",
       "812  תל אביב -יפו        5992\n",
       "365       ירושלים        2843\n",
       "312          חיפה        1806\n",
       "698     פתח תקווה        1567\n",
       "302         חולון        1461"
      ]
     },
     "execution_count": 14,
     "metadata": {},
     "output_type": "execute_result"
    }
   ],
   "source": [
    "Grouped_City =accidents.groupby('CITY').sum().reset_index()\n",
    "Max_Accident= Grouped_City[[\"CITY\",\"SUMACCIDEN\"]].sort_values(by = \"SUMACCIDEN\", ascending = False).head()\n",
    "Max_Accident\n"
   ]
  },
  {
   "cell_type": "code",
   "execution_count": 15,
   "id": "c6e6891a-bdd2-4016-9ff9-00dd6fb98693",
   "metadata": {},
   "outputs": [],
   "source": [
    "Max_Accident['CITY']=Max_Accident['CITY'].replace(['חולון','פתח תקווה','חיפה','ירושלים','תל אביב -יפו'],['ןולוח','הווקת חתפ','הפיח','םילשורי','ופי- ביבא לת'])"
   ]
  },
  {
   "cell_type": "code",
   "execution_count": 16,
   "id": "3e1d419e-f1a9-4cd6-9fb0-96a024803789",
   "metadata": {},
   "outputs": [
    {
     "data": {
      "image/png": "[encoded data removed]",
      "text/plain": [
       "<Figure size 432x288 with 1 Axes>"
      ]
     },
     "metadata": {
      "needs_background": "light"
     },
     "output_type": "display_data"
    }
   ],
   "source": [
    "Max_Accident_sns=sns.stripplot(x=\"CITY\", y=\"SUMACCIDEN\", data=Max_Accident , size=13);"
   ]
  },
  {
   "cell_type": "code",
   "execution_count": 17,
   "id": "85cd0ee5-e90a-417b-b686-6008dc484408",
   "metadata": {},
   "outputs": [
    {
     "data": {
      "text/html": [
       "<div>\n",
       "<style scoped>\n",
       "    .dataframe tbody tr th:only-of-type {\n",
       "        vertical-align: middle;\n",
       "    }\n",
       "\n",
       "    .dataframe tbody tr th {\n",
       "        vertical-align: top;\n",
       "    }\n",
       "\n",
       "    .dataframe thead th {\n",
       "        text-align: right;\n",
       "    }\n",
       "</style>\n",
       "<table border=\"1\" class=\"dataframe\">\n",
       "  <thead>\n",
       "    <tr style=\"text-align: right;\">\n",
       "      <th></th>\n",
       "      <th>MOTORCYCLE</th>\n",
       "      <th>TRUCK</th>\n",
       "      <th>BICYCLE</th>\n",
       "      <th>PRIVATE</th>\n",
       "    </tr>\n",
       "    <tr>\n",
       "      <th>VEHICLE</th>\n",
       "      <th></th>\n",
       "      <th></th>\n",
       "      <th></th>\n",
       "      <th></th>\n",
       "    </tr>\n",
       "  </thead>\n",
       "  <tbody>\n",
       "    <tr>\n",
       "      <th>0.0</th>\n",
       "      <td>0.0</td>\n",
       "      <td>0.0</td>\n",
       "      <td>0.0</td>\n",
       "      <td>0.0</td>\n",
       "    </tr>\n",
       "    <tr>\n",
       "      <th>1.0</th>\n",
       "      <td>70.0</td>\n",
       "      <td>10.0</td>\n",
       "      <td>6.0</td>\n",
       "      <td>505.0</td>\n",
       "    </tr>\n",
       "    <tr>\n",
       "      <th>2.0</th>\n",
       "      <td>289.0</td>\n",
       "      <td>62.0</td>\n",
       "      <td>61.0</td>\n",
       "      <td>1812.0</td>\n",
       "    </tr>\n",
       "    <tr>\n",
       "      <th>3.0</th>\n",
       "      <td>19.0</td>\n",
       "      <td>14.0</td>\n",
       "      <td>3.0</td>\n",
       "      <td>319.0</td>\n",
       "    </tr>\n",
       "    <tr>\n",
       "      <th>4.0</th>\n",
       "      <td>6.0</td>\n",
       "      <td>9.0</td>\n",
       "      <td>0.0</td>\n",
       "      <td>164.0</td>\n",
       "    </tr>\n",
       "    <tr>\n",
       "      <th>5.0</th>\n",
       "      <td>4.0</td>\n",
       "      <td>2.0</td>\n",
       "      <td>0.0</td>\n",
       "      <td>34.0</td>\n",
       "    </tr>\n",
       "    <tr>\n",
       "      <th>6.0</th>\n",
       "      <td>0.0</td>\n",
       "      <td>0.0</td>\n",
       "      <td>0.0</td>\n",
       "      <td>18.0</td>\n",
       "    </tr>\n",
       "    <tr>\n",
       "      <th>7.0</th>\n",
       "      <td>0.0</td>\n",
       "      <td>0.0</td>\n",
       "      <td>0.0</td>\n",
       "      <td>13.0</td>\n",
       "    </tr>\n",
       "  </tbody>\n",
       "</table>\n",
       "</div>"
      ],
      "text/plain": [
       "         MOTORCYCLE  TRUCK  BICYCLE  PRIVATE\n",
       "VEHICLE                                     \n",
       "0.0             0.0    0.0      0.0      0.0\n",
       "1.0            70.0   10.0      6.0    505.0\n",
       "2.0           289.0   62.0     61.0   1812.0\n",
       "3.0            19.0   14.0      3.0    319.0\n",
       "4.0             6.0    9.0      0.0    164.0\n",
       "5.0             4.0    2.0      0.0     34.0\n",
       "6.0             0.0    0.0      0.0     18.0\n",
       "7.0             0.0    0.0      0.0     13.0"
      ]
     },
     "execution_count": 17,
     "metadata": {},
     "output_type": "execute_result"
    }
   ],
   "source": [
    "Vehicle_Type = accidents.groupby('VEHICLE')[['MOTORCYCLE', 'TRUCK', 'BICYCLE', 'PRIVATE']].sum()\n",
    "Vehicle_Type"
   ]
  },
  {
   "cell_type": "code",
   "execution_count": 18,
   "id": "0f363040-fb26-4826-bb15-6d83fcc3e5bb",
   "metadata": {},
   "outputs": [
    {
     "data": {
      "image/png": "[encoded data removed]",
      "text/plain": [
       "<Figure size 432x288 with 1 Axes>"
      ]
     },
     "metadata": {
      "needs_background": "light"
     },
     "output_type": "display_data"
    }
   ],
   "source": [
    "df = pd.DataFrame(data =accidents , columns = ['MOTORCYCLE', 'TRUCK', 'BICYCLE', 'PRIVATE'])\n",
    "sns.stripplot(x=\"variable\", y=\"value\", data=pd.melt(df))\n",
    "plt.show()"
   ]
  },
  {
   "cell_type": "markdown",
   "id": "b12e9d3b-4ce4-4d0a-9463-0c3fb08c9a0a",
   "metadata": {
    "tags": []
   },
   "source": [
    "#### It can be seen that in the central cities of Israel the number of road accidents is the greatest, and in addition, the type of vehicle that is involved in the most accidents is 'private'.\n",
    "#### From these findings, we recommend encouraging the use of public transportation in cities, and also, increasing enforcement on 'private' vehicles."
   ]
  },
  {
   "cell_type": "markdown",
   "id": "f1414a0d-7989-4c0e-a80f-9af0c7220073",
   "metadata": {},
   "source": [
    "<div>\n",
    "<img src=\"ayalon.jpg\" width=\"500\"/>\n",
    "</div>"
   ]
  },
  {
   "cell_type": "markdown",
   "id": "150e1fae-9f44-4891-aef6-e59e20cabe1c",
   "metadata": {},
   "source": [
    "## 4. Summery"
   ]
  },
  {
   "cell_type": "markdown",
   "id": "7e06e36d-3d3c-4cc2-b69e-a498481968a5",
   "metadata": {},
   "source": [
    "### In conclusion, we decided to investigate the data on road accidents in Israel after we discovered that road accidents are one of the five main causes of death in Israel. We tried to understand what are the main causes of accidents and where they happen in order to reduce the number of casualties and deaths. From the analysis of the data we have reached a number of important conclusions that can lead the appropriate factors to create a change in the roads and to create appropriate policies and enforcement in the country."
   ]
  },
  {
   "cell_type": "markdown",
   "id": "58b319ae-c54c-4e1e-a5b9-34220052a70c",
   "metadata": {},
   "source": [
    "<div>\n",
    "<img src=\"WhatsApp Image 2022-09-04 at 13.02.16 (1).jpeg\" width=\"500\"/>\n",
    "</div>\n",
    "<div>\n",
    "<img src=\"WhatsApp Image 2022-09-04 at 13.02.16 (2).jpeg\" width=\"300\"/>\n",
    "</div>"
   ]
  },
  {
   "cell_type": "code",
   "execution_count": null,
   "id": "66efc565-95c5-4727-aa38-35ed24d87c04",
   "metadata": {},
   "outputs": [],
   "source": []
  }
 ],
 "metadata": {
  "kernelspec": {
   "display_name": "Python 3 (ipykernel)",
   "language": "python",
   "name": "python3"
  },
  "language_info": {
   "codemirror_mode": {
    "name": "ipython",
    "version": 3
   },
   "file_extension": ".py",
   "mimetype": "text/x-python",
   "name": "python",
   "nbconvert_exporter": "python",
   "pygments_lexer": "ipython3",
   "version": "3.9.7"
  }
 },
 "nbformat": 4,
 "nbformat_minor": 5
}
